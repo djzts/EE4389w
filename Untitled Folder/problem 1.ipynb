{
 "cells": [
  {
   "cell_type": "code",
   "execution_count": 228,
   "metadata": {},
   "outputs": [],
   "source": [
    "import numpy as np\n",
    "import matplotlib.pyplot as plt"
   ]
  },
  {
   "cell_type": "code",
   "execution_count": 229,
   "metadata": {},
   "outputs": [],
   "source": [
    "from tabulate import tabulate\n",
    "from sklearn.linear_model import Ridge\n",
    "from sklearn.preprocessing import PolynomialFeatures\n",
    "from sklearn.pipeline import make_pipeline\n",
    "from sklearn.model_selection import KFold"
   ]
  },
  {
   "cell_type": "code",
   "execution_count": 230,
   "metadata": {},
   "outputs": [],
   "source": [
    "mu = 5\n",
    "sigma = 0.1\n",
    "s = np.random.normal(mu, sigma, 1000)"
   ]
  },
  {
   "cell_type": "code",
   "execution_count": 231,
   "metadata": {},
   "outputs": [],
   "source": [
    "x = np.arange(0,1,1/10**4)\n",
    "obj_func = x**2 +0.1*x\n",
    "mu , sigma= 0 , 0.5\n",
    "real_func = obj_func + np.random.normal(mu, sigma, len(obj_func))\n",
    "\n",
    "num_training_sample = 25\n",
    "\n",
    "samples_index = np.random.choice(len(x), num_training_sample, replace=False)"
   ]
  },
  {
   "cell_type": "code",
   "execution_count": 232,
   "metadata": {},
   "outputs": [],
   "source": [
    "lw = 2\n",
    "x_sample = x[samples_index]\n",
    "\n",
    "y_sample = real_func[samples_index]\n",
    "\n",
    "    \n",
    "#print(x_sample ,y_sample )"
   ]
  },
  {
   "cell_type": "code",
   "execution_count": 233,
   "metadata": {},
   "outputs": [
    {
     "name": "stdout",
     "output_type": "stream",
     "text": [
      "TRAIN: [ 1  2  3  4  5  6  7  8  9 10 11 12 13 14 17 18 19 20 22 24] TEST: [ 0 15 16 21 23]\n",
      "TRAIN: [ 0  1  3  4  5  6  7  8  9 11 12 13 15 16 17 18 19 21 22 23] TEST: [ 2 10 14 20 24]\n",
      "TRAIN: [ 0  1  2  4  6  7  9 10 11 12 13 14 15 16 17 20 21 22 23 24] TEST: [ 3  5  8 18 19]\n",
      "TRAIN: [ 0  1  2  3  4  5  6  7  8  9 10 14 15 16 18 19 20 21 23 24] TEST: [11 12 13 17 22]\n",
      "TRAIN: [ 0  2  3  5  8 10 11 12 13 14 15 16 17 18 19 20 21 22 23 24] TEST: [1 4 6 7 9]\n"
     ]
    }
   ],
   "source": [
    "kf = KFold(n_splits=5,shuffle=True)\n",
    "#kf = KFold(n_splits=5,shuffle=False)\n",
    "kf.get_n_splits(x_sample,y_sample)\n",
    "\n",
    "\n",
    "\n",
    "highest_degree = 5\n",
    "R_emp= np.zeros((5,highest_degree+1))\n",
    "counter = 0\n",
    "result = []\n",
    "for train_index, test_index in kf.split(x_sample):\n",
    "    print(\"TRAIN:\", train_index, \"TEST:\", test_index)\n",
    "    X_train, X_test = x_sample[train_index], x_sample[test_index]\n",
    "    y_train, y_test = y_sample[train_index], y_sample[test_index]\n",
    "    for degree in range(highest_degree + 1):\n",
    "        \n",
    "        z = np.polyfit(X_train,y_train, degree)\n",
    "        func = np.poly1d(z)\n",
    "        ##validation set\n",
    "        R_emp[counter,degree] = np.mean(np.sqrt(np.sum((func(X_test)-y_test)**2) ))\n",
    "    temp = \"%d fold in %d fold CV R_emp\"%(counter+1,5)\n",
    "    result = result  +[[temp] + list(R_emp[counter,:])]\n",
    "    \n",
    "    counter = counter + 1\n",
    "    \n",
    "    \n",
    "\n",
    "headers = [\"name\"]  \n",
    "for degree in range(highest_degree + 1):\n",
    "    name_temp = [\"degree = %d\"%degree]\n",
    "    headers = headers + name_temp\n",
    "    \n",
    "result = result  +[[\"Average_R_remp\"] + list(np.mean(R_emp,axis=0))]"
   ]
  },
  {
   "cell_type": "code",
   "execution_count": 234,
   "metadata": {},
   "outputs": [
    {
     "name": "stdout",
     "output_type": "stream",
     "text": [
      "name                         degree = 0    degree = 1    degree = 2    degree = 3    degree = 4    degree = 5\n",
      "-------------------------  ------------  ------------  ------------  ------------  ------------  ------------\n",
      "1 fold in 5 fold CV R_emp       1.05296      0.911356      0.754061      0.821093      0.933964      1.61706\n",
      "2 fold in 5 fold CV R_emp       2.35995      1.87367       1.78836       1.77526       1.84596       1.99485\n",
      "3 fold in 5 fold CV R_emp       1.11306      0.836479      1.14904       1.2912        1.22972       1.50543\n",
      "4 fold in 5 fold CV R_emp       1.83105      1.64411       1.61661       1.63327       1.63434       1.63448\n",
      "5 fold in 5 fold CV R_emp       1.25665      0.789862      0.636019      0.648252      0.652965      0.669976\n",
      "Average_R_remp                  1.52273      1.21109       1.18882       1.23381       1.25939       1.48436\n"
     ]
    }
   ],
   "source": [
    "print(tabulate(result, headers))"
   ]
  },
  {
   "cell_type": "code",
   "execution_count": 235,
   "metadata": {},
   "outputs": [
    {
     "data": {
      "text/plain": [
       "<matplotlib.legend.Legend at 0x26a6c83d828>"
      ]
     },
     "execution_count": 235,
     "metadata": {},
     "output_type": "execute_result"
    },
    {
     "data": {
      "image/png": "[encoded data removed]",
      "text/plain": [
       "<Figure size 432x288 with 2 Axes>"
      ]
     },
     "metadata": {
      "needs_background": "light"
     },
     "output_type": "display_data"
    }
   ],
   "source": [
    "min_degree = np.argmin(np.mean(R_emp,axis=0))\n",
    "z = np.polyfit(X_train,y_train, min_degree)\n",
    "func = np.poly1d(z)\n",
    "#validation set\n",
    "plt.subplot(1,2,1)\n",
    "plt.tight_layout(pad=1, w_pad=1.0, h_pad=1.0)\n",
    "plt.plot(x,obj_func,'b-',label=\"original\")\n",
    "plt.plot(X_train, y_train, 'rx')\n",
    "plt.plot(x,func(x),'k:',label=\"fit\")\n",
    "plt.gca().set_title('polynimal degree = %d' % min_degree)\n",
    "plt.legend(loc='upper left')\n",
    "\n",
    "plt.subplot(1,2,2)\n",
    "plt.tight_layout(pad=1, w_pad=3.0, h_pad=1.0)\n",
    "plt.plot(x,obj_func,'b-',label=\"original\")\n",
    "plt.plot(X_test, y_test, 'rx',label=\"validation data\")\n",
    "plt.plot(x,func(x),'k:',label=\"fit\")\n",
    "plt.gca().set_title('best polynimal degree = %d' % min_degree)\n",
    "plt.legend(loc='best')"
   ]
  },
  {
   "cell_type": "code",
   "execution_count": 236,
   "metadata": {},
   "outputs": [
    {
     "name": "stdout",
     "output_type": "stream",
     "text": [
      "name               degree = 0    degree = 1    degree = 2    degree = 3    degree = 4    degree = 5\n",
      "---------------  ------------  ------------  ------------  ------------  ------------  ------------\n",
      "Average_R_remp        1.52273       1.21109       1.18882       1.23381       1.25939       1.48436\n",
      "Schwartz_R_remp       1.76282       1.61422       1.8173        2.15786       2.51699       3.3901\n"
     ]
    }
   ],
   "source": [
    "# Schwatz\n",
    "k = 5\n",
    "num_training_sample = 25\n",
    "R_emp_mean = np.mean(R_emp,axis=0)\n",
    "R = np.zeros_like(np.mean(R_emp, axis=0))\n",
    "for index, R_ave in np.ndenumerate(R_emp_mean):\n",
    "    p =  (index[0]+1)/ (num_training_sample*(5-1)/5)\n",
    "    R[index] = (1+p/(1-p)*np.log(num_training_sample*(5-1)/5))* R_ave\n",
    "    #print(index[0], x)\n",
    "    \n",
    "result_1 = [[\"Average_R_remp\"] + list(R_emp_mean)]+[[\"Schwartz_R_remp\"] + list(R)]\n",
    "print(tabulate(result_1, headers))"
   ]
  },
  {
   "cell_type": "code",
   "execution_count": null,
   "metadata": {},
   "outputs": [],
   "source": []
  },
  {
   "cell_type": "code",
   "execution_count": 237,
   "metadata": {},
   "outputs": [
    {
     "data": {
      "text/plain": [
       "array([[0., 0., 0.],\n",
       "       [0., 0., 0.],\n",
       "       [0., 0., 0.],\n",
       "       [0., 0., 0.],\n",
       "       [0., 0., 0.]])"
      ]
     },
     "execution_count": 237,
     "metadata": {},
     "output_type": "execute_result"
    }
   ],
   "source": [
    "np.zeros((5,3))"
   ]
  },
  {
   "cell_type": "code",
   "execution_count": 68,
   "metadata": {},
   "outputs": [
    {
     "name": "stdout",
     "output_type": "stream",
     "text": [
      "0.7814\n",
      "[ 120.41155451 -288.33756693  255.62991116 -102.58580274   18.50353592\n",
      "   -0.88495944]\n"
     ]
    }
   ],
   "source": [
    "print(X_train[0])\n",
    "print(z)"
   ]
  },
  {
   "cell_type": "code",
   "execution_count": null,
   "metadata": {},
   "outputs": [],
   "source": [
    "\n",
    "\n",
    "\n",
    "\n",
    "\n",
    "lw = 2\n",
    "x_sample = x[samples_index]\n",
    "\n",
    "y_sample = real_func[samples_index]\n",
    "\n",
    "colors = ['teal', 'k', 'gold','b']\n",
    "\n",
    "style = ['--', '-.', '',':']\n",
    "\n",
    "X = x_sample[:, np.newaxis]\n",
    "X_plot = x[:, np.newaxis]\n",
    "\n",
    "for count, degree in enumerate([2, 3, 4, 5]):\n",
    "    #p\n",
    "    \n",
    "    model = make_pipeline(PolynomialFeatures(degree), Ridge())\n",
    "    \n",
    "    p = model.fit(X, y_sample)\n",
    "    \n",
    "    #print(p.coef_)\n",
    "    \n",
    "    y_plot = model.predict(X_plot)\n",
    "    \n",
    "    plt.plot(X_plot, y_plot,style[count], color=colors[count], linewidth=lw,\n",
    "             label=\"degree %d\" % degree)\n",
    "plt.plot(x[samples_index], real_func[samples_index], 'rx',x,obj_func,'b-',label=\"original\")\n",
    "plt.axis([0, 1, -1, 1.5])\n",
    "plt.legend(loc='upper left')\n",
    "plt.show()"
   ]
  },
  {
   "cell_type": "code",
   "execution_count": null,
   "metadata": {},
   "outputs": [],
   "source": [
    "#print(model)\n",
    "#print(model[0].get_feature_names())\n",
    "#print(model.named_steps['ridge'].coef_)\n",
    "#print(model[0].coef_)\n",
    "#print(model[0].get_params())\n",
    "#print(model.named_steps['polynomialfeatures'])\n",
    "#y_plot[0]"
   ]
  }
 ],
 "metadata": {
  "kernelspec": {
   "display_name": "Python 3",
   "language": "python",
   "name": "python3"
  },
  "language_info": {
   "codemirror_mode": {
    "name": "ipython",
    "version": 3
   },
   "file_extension": ".py",
   "mimetype": "text/x-python",
   "name": "python",
   "nbconvert_exporter": "python",
   "pygments_lexer": "ipython3",
   "version": "3.6.9"
  }
 },
 "nbformat": 4,
 "nbformat_minor": 2
}
