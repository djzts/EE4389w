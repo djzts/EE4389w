{
 "cells": [
  {
   "cell_type": "code",
   "execution_count": 7,
   "metadata": {},
   "outputs": [],
   "source": [
    "import numpy as np\n",
    "import matplotlib.pyplot as plt"
   ]
  },
  {
   "cell_type": "code",
   "execution_count": 8,
   "metadata": {},
   "outputs": [],
   "source": [
    "from tabulate import tabulate\n",
    "from sklearn.linear_model import Ridge\n",
    "from sklearn.preprocessing import PolynomialFeatures\n",
    "from sklearn.pipeline import make_pipeline\n",
    "from sklearn.model_selection import KFold"
   ]
  },
  {
   "cell_type": "code",
   "execution_count": null,
   "metadata": {},
   "outputs": [],
   "source": []
  },
  {
   "cell_type": "code",
   "execution_count": 9,
   "metadata": {},
   "outputs": [],
   "source": [
    "x = np.arange(0,1,1/10**4)\n",
    "obj_func = x**2 +0.1*x\n",
    "mu , sigma= 0 , 0.5\n",
    "real_func = obj_func + np.random.normal(mu, sigma, len(obj_func))\n",
    "\n",
    "num_training_sample = 25\n",
    "\n",
    "samples_index = np.random.choice(len(x), num_training_sample, replace=False)"
   ]
  },
  {
   "cell_type": "code",
   "execution_count": 10,
   "metadata": {},
   "outputs": [],
   "source": [
    "x_sample = x[samples_index]\n",
    "\n",
    "y_sample = real_func[samples_index]\n",
    "\n"
   ]
  },
  {
   "cell_type": "code",
   "execution_count": 11,
   "metadata": {},
   "outputs": [
    {
     "name": "stdout",
     "output_type": "stream",
     "text": [
      "TRAIN: [ 5  6  7  8  9 10 11 12 13 14 15 16 17 18 19 20 21 22 23 24] TEST: [0 1 2 3 4]\n",
      "TRAIN: [ 0  1  2  3  4 10 11 12 13 14 15 16 17 18 19 20 21 22 23 24] TEST: [5 6 7 8 9]\n",
      "TRAIN: [ 0  1  2  3  4  5  6  7  8  9 15 16 17 18 19 20 21 22 23 24] TEST: [10 11 12 13 14]\n",
      "TRAIN: [ 0  1  2  3  4  5  6  7  8  9 10 11 12 13 14 20 21 22 23 24] TEST: [15 16 17 18 19]\n",
      "TRAIN: [ 0  1  2  3  4  5  6  7  8  9 10 11 12 13 14 15 16 17 18 19] TEST: [20 21 22 23 24]\n"
     ]
    }
   ],
   "source": [
    "kf = KFold(n_splits=5,shuffle=False)\n",
    "\n",
    "kf.get_n_splits(x_sample,y_sample)\n",
    "\n",
    "\n",
    "\n",
    "highest_degree = 5\n",
    "R_emp= np.zeros((5,highest_degree+1))\n",
    "counter = 0\n",
    "result = []\n",
    "for train_index, test_index in kf.split(x_sample):\n",
    "    print(\"TRAIN:\", train_index, \"TEST:\", test_index)\n",
    "    X_train, X_test = x_sample[train_index], x_sample[test_index]\n",
    "    y_train, y_test = y_sample[train_index], y_sample[test_index]\n",
    "    for degree in range(highest_degree + 1):\n",
    "        \n",
    "        z = np.polyfit(X_train,y_train, degree)\n",
    "        func = np.poly1d(z)\n",
    "        ##validation set\n",
    "        R_emp[counter,degree] = np.mean(np.sqrt(np.sum((func(X_test)-y_test)**2) ))\n",
    "    temp = \"%d in %d fold CV R_emp\"%(counter+1,5)\n",
    "    result = result  +[[temp] + list(R_emp[counter,:])]\n",
    "    \n",
    "    counter = counter + 1\n",
    "    \n",
    "    \n",
    "\n",
    "headers = [\"name\"]  \n",
    "for degree in range(highest_degree + 1):\n",
    "    name_temp = [\"D = %d\"%degree]\n",
    "    headers = headers + name_temp\n",
    "    \n",
    "result = result  +[[\"Average_R_remp\"] + list(np.mean(R_emp,axis=0))]"
   ]
  },
  {
   "cell_type": "code",
   "execution_count": 12,
   "metadata": {},
   "outputs": [
    {
     "name": "stdout",
     "output_type": "stream",
     "text": [
      "| name                 |   D = 0 |    D = 1 |    D = 2 |    D = 3 |    D = 4 |    D = 5 |\n",
      "|----------------------|---------|----------|----------|----------|----------|----------|\n",
      "| 1 in 5 fold CV R_emp | 1.56026 | 1.21704  | 1.29864  | 1.30713  | 1.31469  | 1.24616  |\n",
      "| 2 in 5 fold CV R_emp | 1.34255 | 1.17785  | 0.880304 | 0.893254 | 1.22033  | 1.05647  |\n",
      "| 3 in 5 fold CV R_emp | 1.18212 | 1.13227  | 0.724853 | 0.721835 | 0.8621   | 0.69309  |\n",
      "| 4 in 5 fold CV R_emp | 0.6473  | 0.549159 | 0.44991  | 0.490574 | 0.500951 | 0.594911 |\n",
      "| 5 in 5 fold CV R_emp | 1.56541 | 1.34348  | 1.1696   | 1.16762  | 1.20919  | 1.12656  |\n",
      "| Average_R_remp       | 1.25953 | 1.08396  | 0.904662 | 0.916081 | 1.02145  | 0.943439 |\n"
     ]
    }
   ],
   "source": [
    "print(tabulate(result, headers,tablefmt=\"github\"))"
   ]
  },
  {
   "cell_type": "code",
   "execution_count": 13,
   "metadata": {},
   "outputs": [
    {
     "data": {
      "text/plain": [
       "<matplotlib.legend.Legend at 0x1d473a25860>"
      ]
     },
     "execution_count": 13,
     "metadata": {},
     "output_type": "execute_result"
    },
    {
     "data": {
      "image/png": "[encoded data removed]",
      "text/plain": [
       "<Figure size 432x288 with 2 Axes>"
      ]
     },
     "metadata": {
      "needs_background": "light"
     },
     "output_type": "display_data"
    }
   ],
   "source": [
    "min_degree = np.argmin(np.mean(R_emp,axis=0))\n",
    "z = np.polyfit(X_train,y_train, min_degree)\n",
    "func = np.poly1d(z)\n",
    "#validation set\n",
    "plt.subplot(1,2,1)\n",
    "plt.tight_layout(pad=1, w_pad=1.0, h_pad=1.0)\n",
    "plt.plot(x,obj_func,'b-',label=\"original\")\n",
    "plt.plot(X_train, y_train, 'rx')\n",
    "plt.plot(x,func(x),'k:',label=\"fit\")\n",
    "plt.gca().set_title('polynimal degree = %d' % min_degree)\n",
    "plt.legend(loc='upper left')\n",
    "\n",
    "plt.subplot(1,2,2)\n",
    "plt.tight_layout(pad=1, w_pad=3.0, h_pad=1.0)\n",
    "plt.plot(x,obj_func,'b-',label=\"original\")\n",
    "plt.plot(X_test, y_test, 'rx',label=\"validation data\")\n",
    "plt.plot(x,func(x),'k:',label=\"fit\")\n",
    "plt.gca().set_title('best polynimal degree = %d' % min_degree)\n",
    "plt.legend(loc='best')"
   ]
  },
  {
   "cell_type": "code",
   "execution_count": 14,
   "metadata": {},
   "outputs": [
    {
     "name": "stdout",
     "output_type": "stream",
     "text": [
      "name               D = 0    D = 1     D = 2     D = 3    D = 4     D = 5\n",
      "---------------  -------  -------  --------  --------  -------  --------\n",
      "Average_R_remp   1.25953  1.08396  0.904662  0.916081  1.02145  0.943439\n",
      "Schwartz_R_remp  1.45812  1.44476  1.38292   1.60216   2.04145  2.15471\n"
     ]
    }
   ],
   "source": [
    "# Schwatz\n",
    "k = 5\n",
    "num_training_sample = 25\n",
    "R_emp_mean = np.mean(R_emp,axis=0)\n",
    "R = np.zeros_like(np.mean(R_emp, axis=0))\n",
    "for index, R_ave in np.ndenumerate(R_emp_mean):\n",
    "    p =  (index[0]+1)/ (num_training_sample*(5-1)/5)\n",
    "    R[index] = (1+p/(1-p)*np.log(num_training_sample*(5-1)/5))* R_ave\n",
    "    #print(index[0], x)\n",
    "    \n",
    "result_1 = [[\"Average_R_remp\"] + list(R_emp_mean)]+[[\"Schwartz_R_remp\"] + list(R)]\n",
    "print(tabulate(result_1, headers))"
   ]
  },
  {
   "cell_type": "code",
   "execution_count": 53,
   "metadata": {},
   "outputs": [],
   "source": [
    "# double resampling LOO\n",
    "LOO_index = np.random.choice(len(x_sample), 1, replace=False)\n",
    "x_test_set = x_sample[LOO_index]\n",
    "x_train_set = np.delete(x_sample, LOO_index )\n",
    "\n",
    "y_test_set = y_sample[LOO_index]\n",
    "y_train_set = np.delete(y_sample, LOO_index )\n"
   ]
  },
  {
   "cell_type": "code",
   "execution_count": 56,
   "metadata": {},
   "outputs": [
    {
     "name": "stdout",
     "output_type": "stream",
     "text": [
      "TRAIN: [ 4  5  6  7  8  9 10 11 12 13 14 15 16 17 18 19 20 21 22 23] TEST: [0 1 2 3]\n",
      "TRAIN: [ 0  1  2  3  8  9 10 11 12 13 14 15 16 17 18 19 20 21 22 23] TEST: [4 5 6 7]\n",
      "TRAIN: [ 0  1  2  3  4  5  6  7 12 13 14 15 16 17 18 19 20 21 22 23] TEST: [ 8  9 10 11]\n",
      "TRAIN: [ 0  1  2  3  4  5  6  7  8  9 10 11 16 17 18 19 20 21 22 23] TEST: [12 13 14 15]\n",
      "TRAIN: [ 0  1  2  3  4  5  6  7  8  9 10 11 12 13 14 15 20 21 22 23] TEST: [16 17 18 19]\n",
      "TRAIN: [ 0  1  2  3  4  5  6  7  8  9 10 11 12 13 14 15 16 17 18 19] TEST: [20 21 22 23]\n"
     ]
    }
   ],
   "source": [
    "kf = KFold(n_splits=6,shuffle=False)\n",
    "\n",
    "kf.get_n_splits(x_train_set,y_train_set)\n",
    "\n",
    "\n",
    "\n",
    "highest_degree = 5\n",
    "R_emp= np.zeros((6,highest_degree+1))\n",
    "counter = 0\n",
    "result_2 = []\n",
    "for train_index, test_index in kf.split(x_train_set):\n",
    "    print(\"TRAIN:\", train_index, \"TEST:\", test_index)\n",
    "    X_train, X_test = x_sample[train_index], x_sample[test_index]\n",
    "    y_train, y_test = y_sample[train_index], y_sample[test_index]\n",
    "    for degree in range(highest_degree + 1):\n",
    "        \n",
    "        z = np.polyfit(X_train,y_train, degree)\n",
    "        func = np.poly1d(z)\n",
    "        ##validation set\n",
    "        R_emp[counter,degree] = np.mean(np.sqrt(np.sum((func(X_test)-y_test)**2) ))\n",
    "    temp = \"%d fold in %d fold CV R_emp\"%(counter+1,6)\n",
    "    result_2 = result_2  +[[temp] + list(R_emp[counter,:])]\n",
    "    \n",
    "    counter = counter + 1\n",
    "    \n",
    "    \n",
    "\n",
    "headers = [\"name\"]  \n",
    "for degree in range(highest_degree + 1):\n",
    "    name_temp = [\"D = %d\"%degree]\n",
    "    headers = headers + name_temp\n",
    "    \n",
    "result_2 = result_2  +[[\"Average_R_remp\"] + list(np.mean(R_emp,axis=0))]"
   ]
  },
  {
   "cell_type": "code",
   "execution_count": 57,
   "metadata": {},
   "outputs": [
    {
     "name": "stdout",
     "output_type": "stream",
     "text": [
      "| name                      |    D = 0 |    D = 1 |    D = 2 |    D = 3 |    D = 4 |    D = 5 |\n",
      "|---------------------------|----------|----------|----------|----------|----------|----------|\n",
      "| 1 fold in 6 fold CV R_emp | 1.1642   | 0.65864  | 0.513332 | 0.516381 | 0.522239 | 0.536862 |\n",
      "| 2 fold in 6 fold CV R_emp | 1.3603   | 0.836045 | 1.19233  | 1.21993  | 1.24101  | 1.28036  |\n",
      "| 3 fold in 6 fold CV R_emp | 1.1506   | 1.0201   | 0.925194 | 0.922612 | 0.937835 | 1.019    |\n",
      "| 4 fold in 6 fold CV R_emp | 0.770258 | 0.517992 | 0.360582 | 0.563972 | 0.868143 | 1.12357  |\n",
      "| 5 fold in 6 fold CV R_emp | 1.01541  | 1.18262  | 1.10147  | 1.11335  | 1.21656  | 1.22399  |\n",
      "| 6 fold in 6 fold CV R_emp | 1.14137  | 0.936117 | 1.27504  | 1.31608  | 1.34861  | 1.38599  |\n",
      "| Average_R_remp            | 1.10035  | 0.858585 | 0.894658 | 0.942054 | 1.0224   | 1.09496  |\n"
     ]
    }
   ],
   "source": [
    "print(tabulate(result_2, headers,tablefmt=\"github\"))"
   ]
  },
  {
   "cell_type": "code",
   "execution_count": 64,
   "metadata": {},
   "outputs": [],
   "source": [
    "opt_deree = np.argmin(np.mean(R_emp,axis=0))\n",
    "z = np.polyfit(x_train_set,y_train_set, opt_deree)\n",
    "func_loo =np.poly1d(z)\n",
    "R_emp_LOO =  np.absolute(func_loo(x_test_set)-y_test_set)"
   ]
  },
  {
   "cell_type": "code",
   "execution_count": 66,
   "metadata": {},
   "outputs": [
    {
     "data": {
      "text/plain": [
       "<matplotlib.legend.Legend at 0x1a0c1acae80>"
      ]
     },
     "execution_count": 66,
     "metadata": {},
     "output_type": "execute_result"
    },
    {
     "data": {
      "image/png": "[encoded data removed]",
      "text/plain": [
       "<Figure size 432x288 with 2 Axes>"
      ]
     },
     "metadata": {
      "needs_background": "light"
     },
     "output_type": "display_data"
    }
   ],
   "source": [
    "plt.subplot(1,2,1)\n",
    "plt.tight_layout(pad=1, w_pad=1.0, h_pad=1.0)\n",
    "plt.plot(x,obj_func,'b-',label=\"original\")\n",
    "plt.plot(x_train_set, y_train_set, 'rx')\n",
    "plt.plot(x,func_loo(x),'k:',label=\"fit\")\n",
    "plt.gca().set_title('polynimal degree = %d' % min_degree)\n",
    "plt.legend(loc='upper left')\n",
    "\n",
    "plt.subplot(1,2,2)\n",
    "plt.tight_layout(pad=1, w_pad=3.0, h_pad=1.0)\n",
    "plt.plot(x,obj_func,'b-',label=\"original\")\n",
    "plt.plot(x_test_set, y_test_set, 'rx',label=\"validation data\")\n",
    "plt.plot(x,func_loo(x),'k:',label=\"fit\")\n",
    "plt.gca().set_title('best polynimal degree = %d' % min_degree)\n",
    "plt.legend(loc='best')"
   ]
  },
  {
   "cell_type": "code",
   "execution_count": null,
   "metadata": {},
   "outputs": [],
   "source": []
  }
 ],
 "metadata": {
  "kernelspec": {
   "display_name": "Python 3",
   "language": "python",
   "name": "python3"
  },
  "language_info": {
   "codemirror_mode": {
    "name": "ipython",
    "version": 3
   },
   "file_extension": ".py",
   "mimetype": "text/x-python",
   "name": "python",
   "nbconvert_exporter": "python",
   "pygments_lexer": "ipython3",
   "version": "3.6.9"
  }
 },
 "nbformat": 4,
 "nbformat_minor": 2
}
