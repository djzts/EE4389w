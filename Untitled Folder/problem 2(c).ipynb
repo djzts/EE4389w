{
 "cells": [
  {
   "cell_type": "code",
   "execution_count": 1,
   "metadata": {},
   "outputs": [],
   "source": [
    "import numpy as np\n",
    "import matplotlib.pyplot as plt\n",
    "from tabulate import tabulate\n",
    "from sklearn.linear_model import Ridge\n",
    "from sklearn.preprocessing import PolynomialFeatures\n",
    "from sklearn.pipeline import make_pipeline\n",
    "from sklearn.model_selection import KFold"
   ]
  },
  {
   "cell_type": "code",
   "execution_count": 5,
   "metadata": {},
   "outputs": [],
   "source": [
    "def Compare():\n",
    "    \n",
    "    output = np.zeros(3)\n",
    "    \n",
    "    #k fold normal\n",
    "    mu = 5\n",
    "    sigma = 0.1\n",
    "    s = np.random.normal(mu, sigma, 1000)\n",
    "    x = np.arange(0,1,1/10**4)\n",
    "    obj_func = x**2 +0.1*x\n",
    "    mu , sigma= 0 , 0.5\n",
    "    real_func = obj_func + np.random.normal(mu, sigma, len(obj_func))\n",
    "\n",
    "    num_training_sample = 25\n",
    "\n",
    "    samples_index = np.random.choice(len(x), num_training_sample, replace=False)\n",
    "    \n",
    "    x_sample = x[samples_index]\n",
    "\n",
    "    y_sample = real_func[samples_index]\n",
    "    \n",
    "    kf = KFold(n_splits=5,shuffle=False)\n",
    "\n",
    "    kf.get_n_splits(x_sample,y_sample)\n",
    "\n",
    "\n",
    "\n",
    "    highest_degree = 5\n",
    "    R_emp= np.zeros((5,highest_degree+1))\n",
    "    counter = 0\n",
    "    for train_index, test_index in kf.split(x_sample):\n",
    "        #print(\"TRAIN:\", train_index, \"TEST:\", test_index)\n",
    "        X_train, X_test = x_sample[train_index], x_sample[test_index]\n",
    "        y_train, y_test = y_sample[train_index], y_sample[test_index]\n",
    "        for degree in range(highest_degree + 1):\n",
    "        \n",
    "            z = np.polyfit(X_train,y_train, degree)\n",
    "            func = np.poly1d(z)\n",
    "            ##validation set\n",
    "            R_emp[counter,degree] = np.mean(np.sqrt(np.sum((func(X_test)-y_test)**2) ))\n",
    "        \n",
    "        counter = counter + 1\n",
    "        \n",
    "    output[0] = np.min(np.mean(R_emp,axis=0))\n",
    "    \n",
    "    #schwatz\n",
    "    R_emp_mean = np.mean(R_emp,axis=0)\n",
    "    R = np.zeros_like(np.mean(R_emp, axis=0))\n",
    "    for index, R_ave in np.ndenumerate(R_emp_mean):\n",
    "        p =  (index[0]+1)/ (num_training_sample*(5-1)/5)\n",
    "        R[index] = (1+p/(1-p)*np.log(num_training_sample*(5-1)/5))* R_ave\n",
    "        \n",
    "    output[1] = np.min(R)\n",
    "    \n",
    "    # double resampling LOO\n",
    "    LOO_index = np.random.choice(len(x_sample), 1, replace=False)\n",
    "    x_test_set = x_sample[LOO_index]\n",
    "    x_train_set = np.delete(x_sample, LOO_index )\n",
    "    \n",
    "    y_test_set = y_sample[LOO_index]\n",
    "    y_train_set = np.delete(y_sample, LOO_index )\n",
    "    \n",
    "    kf = KFold(n_splits=6,shuffle=False)\n",
    "\n",
    "    kf.get_n_splits(x_train_set,y_train_set)\n",
    "\n",
    "\n",
    "\n",
    "    highest_degree = 5\n",
    "    R_emp= np.zeros((6,highest_degree+1))\n",
    "    counter = 0\n",
    "    for train_index, test_index in kf.split(x_train_set):\n",
    "       # print(\"TRAIN:\", train_index, \"TEST:\", test_index)\n",
    "        X_train, X_test = x_sample[train_index], x_sample[test_index]\n",
    "        y_train, y_test = y_sample[train_index], y_sample[test_index]\n",
    "        for degree in range(highest_degree + 1):\n",
    "        \n",
    "            z = np.polyfit(X_train,y_train, degree)\n",
    "            func = np.poly1d(z)\n",
    "            ##validation set\n",
    "            R_emp[counter,degree] = np.mean(np.sqrt(np.sum((func(X_test)-y_test)**2) ))\n",
    "        \n",
    "        counter = counter + 1\n",
    "        \n",
    "    opt_deree = np.argmin(np.mean(R_emp,axis=0))\n",
    "    z = np.polyfit(x_train_set,y_train_set, opt_deree)\n",
    "    func_loo =np.poly1d(z)\n",
    "    R_emp_LOO =  np.absolute(func_loo(x_test_set)-y_test_set)\n",
    "    \n",
    "    output[2] = R_emp_LOO\n",
    "    \n",
    "    return output\n",
    "    \n",
    "    \n",
    "        "
   ]
  },
  {
   "cell_type": "code",
   "execution_count": 6,
   "metadata": {},
   "outputs": [],
   "source": [
    "num_sim = 600\n",
    "result = np.zeros((num_sim,3))\n",
    "for i in range(num_sim):\n",
    "    result[i,:] = Compare()\n"
   ]
  },
  {
   "cell_type": "code",
   "execution_count": 13,
   "metadata": {},
   "outputs": [
    {
     "data": {
      "text/plain": [
       "([<matplotlib.axis.XTick at 0x17378c4df98>,\n",
       "  <matplotlib.axis.XTick at 0x17378c4da58>,\n",
       "  <matplotlib.axis.XTick at 0x17378c73a20>],\n",
       " <a list of 3 Text xticklabel objects>)"
      ]
     },
     "execution_count": 13,
     "metadata": {},
     "output_type": "execute_result"
    },
    {
     "data": {
      "image/png": "[encoded data removed]",
      "text/plain": [
       "<Figure size 432x288 with 1 Axes>"
      ]
     },
     "metadata": {
      "needs_background": "light"
     },
     "output_type": "display_data"
    }
   ],
   "source": [
    "plt.title(\"Average Error rate of 3 methods in %d trails\"% num_sim)\n",
    "plt.ylabel(\"Error rate\")\n",
    "plt.boxplot(result,showfliers=False)\n",
    "plt.xticks([1, 2, 3], ['5 fold', 'Schwatz', 'double resampling LOO'])"
   ]
  },
  {
   "cell_type": "code",
   "execution_count": null,
   "metadata": {},
   "outputs": [],
   "source": []
  }
 ],
 "metadata": {
  "kernelspec": {
   "display_name": "Python 3",
   "language": "python",
   "name": "python3"
  },
  "language_info": {
   "codemirror_mode": {
    "name": "ipython",
    "version": 3
   },
   "file_extension": ".py",
   "mimetype": "text/x-python",
   "name": "python",
   "nbconvert_exporter": "python",
   "pygments_lexer": "ipython3",
   "version": "3.6.9"
  }
 },
 "nbformat": 4,
 "nbformat_minor": 2
}
