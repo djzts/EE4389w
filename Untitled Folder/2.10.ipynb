{
 "cells": [
  {
   "cell_type": "code",
   "execution_count": 2,
   "metadata": {},
   "outputs": [],
   "source": [
    "import pandas as pd\n",
    "import numpy as np\n",
    "import matplotlib.pyplot as plt\n",
    "\n",
    "from sklearn.model_selection import KFold\n",
    "from sklearn.linear_model import LinearRegression\n",
    "from sklearn.metrics import mean_squared_error\n",
    "from tabulate import tabulate\n",
    "\n",
    "import seaborn as sns \n",
    "\n",
    "np.set_printoptions(suppress=True)"
   ]
  },
  {
   "cell_type": "code",
   "execution_count": 3,
   "metadata": {},
   "outputs": [
    {
     "name": "stdout",
     "output_type": "stream",
     "text": [
      "Index(['STATE_NAME', 'LIFE_EXPECT', 'MURDER', 'HSGRAD', 'INCOME',\n",
      "       'ILLITERACY'],\n",
      "      dtype='object')\n",
      "       STATE_NAME  LIFE_EXPECT  MURDER  HSGRAD  INCOME  ILLITERACY\n",
      "0         Alabama         69.1    15.1    41.3    3624         2.1\n",
      "1          Alaska         69.3    11.3    66.7    6315         1.5\n",
      "2         Arizona         70.6     7.8    58.1    4530         1.8\n",
      "3        Arkansas         70.7    10.1    39.9    3378         1.9\n",
      "4      California         71.7    10.3    62.6    5114         1.1\n",
      "5        Colorado         72.1     6.8    63.9    4884         0.7\n",
      "6     Connecticut         72.5     3.1    56.0    5348         1.1\n",
      "7        Delaware         70.1     6.2    54.6    4809         0.9\n",
      "8         Florida         70.7    10.7    52.6    4815         1.3\n",
      "9         Georgia         68.5    13.9    40.6    4091         2.0\n",
      "10         Hawaii         73.6     6.2    61.9    4963         1.9\n",
      "11          Idaho         71.9     5.3    59.5    4119         0.6\n",
      "12       Illinois         70.1    10.3    52.6    5107         0.9\n",
      "13        Indiana         70.9     7.1    52.9    4458         0.7\n",
      "14           Iowa         72.6     2.3    59.0    4628         0.5\n",
      "15         Kansas         72.6     4.5    59.9    4669         0.6\n",
      "16       Kentucky         70.1    10.6    38.5    3712         1.6\n",
      "17      Louisiana         68.8    13.2    42.2    3545         2.8\n",
      "18          Maine         70.4     2.7    54.7    3694         0.7\n",
      "19       Maryland         70.2     8.5    52.3    5299         0.9\n",
      "20  Massachusetts         71.8     3.3    58.5    4755         1.1\n",
      "21       Michigan         70.6    11.1    52.8    4751         0.9\n",
      "22      Minnesota         73.0     2.3    57.6    4675         0.6\n",
      "23    Mississippi         68.1    12.5    41.0    3098         2.4\n",
      "24       Missouri         70.7     9.3    48.8    4254         0.8\n",
      "25        Montana         70.6     5.0    59.2    4347         0.6\n",
      "26       Nebraska         72.6     2.9    59.3    4508         0.6\n",
      "27         Nevada         69.0    11.5    65.2    5149         0.5\n",
      "28   NewHampshire         71.2     3.3    57.6    4281         0.7\n",
      "29      NewJersey         70.9     5.2    52.5    5237         1.1\n",
      "30      NewMexico         70.3     9.7    55.2    3601         2.2\n",
      "31        NewYork         70.6    10.9    52.7    4903         1.4\n",
      "32  NorthCarolina         69.2    11.1    38.5    3875         1.8\n",
      "33    NorthDakota         72.8     1.4    50.3    5087         0.8\n",
      "34           Ohio         70.8     7.4    53.2    4561         0.8\n",
      "35       Oklahoma         71.4     6.4    51.6    3983         1.1\n",
      "36         Oregon         72.1     4.2    60.0    4660         0.6\n",
      "37   Pennsylvania         70.4     6.1    50.2    4449         1.0\n",
      "38    RhodeIsland         71.9     2.4    46.4    4558         1.3\n",
      "39  SouthCarolina         68.0    11.6    37.8    3635         2.3\n",
      "40    SouthDakota         72.1     1.7    53.3    4167         0.5\n",
      "41      Tennessee         70.1    11.0    41.8    3821         1.7\n",
      "42          Texas         70.9    12.2    47.4    4188         2.2\n",
      "43           Utah         72.9     4.5    67.3    4022         0.6\n",
      "44        Vermont         71.6     5.5    57.1    3907         0.6\n",
      "45       Virginia         70.1     9.5    47.8    4701         1.4\n",
      "46     Washington         71.7     4.3    63.5    4864         0.6\n",
      "47   WestVirginia         69.5     6.7    41.6    3617         1.4\n",
      "48      Wisconsin         72.5     3.0    54.5    4468         0.7\n",
      "49        Wyoming         70.3     6.9    62.9    4566         0.6\n"
     ]
    }
   ],
   "source": [
    "dfs = pd.read_excel(\"lifeExpectancy.xlsx\", sheet_name='Sheet1')\n",
    "print(dfs.columns)\n",
    "print(dfs)"
   ]
  },
  {
   "cell_type": "code",
   "execution_count": 4,
   "metadata": {},
   "outputs": [],
   "source": [
    "for  name in dfs.columns:\n",
    "    locals()[name] =  dfs[name]"
   ]
  },
  {
   "cell_type": "code",
   "execution_count": 5,
   "metadata": {},
   "outputs": [
    {
     "name": "stdout",
     "output_type": "stream",
     "text": [
      "TRAIN: [10 11 12 13 14 15 16 17 18 19 20 21 22 23 24 25 26 27 28 29 30 31 32 33\n",
      " 34 35 36 37 38 39 40 41 42 43 44 45 46 47 48 49] TEST: [0 1 2 3 4 5 6 7 8 9]\n",
      "TRAIN: [ 0  1  2  3  4  5  6  7  8  9 20 21 22 23 24 25 26 27 28 29 30 31 32 33\n",
      " 34 35 36 37 38 39 40 41 42 43 44 45 46 47 48 49] TEST: [10 11 12 13 14 15 16 17 18 19]\n",
      "TRAIN: [ 0  1  2  3  4  5  6  7  8  9 10 11 12 13 14 15 16 17 18 19 30 31 32 33\n",
      " 34 35 36 37 38 39 40 41 42 43 44 45 46 47 48 49] TEST: [20 21 22 23 24 25 26 27 28 29]\n",
      "TRAIN: [ 0  1  2  3  4  5  6  7  8  9 10 11 12 13 14 15 16 17 18 19 20 21 22 23\n",
      " 24 25 26 27 28 29 40 41 42 43 44 45 46 47 48 49] TEST: [30 31 32 33 34 35 36 37 38 39]\n",
      "TRAIN: [ 0  1  2  3  4  5  6  7  8  9 10 11 12 13 14 15 16 17 18 19 20 21 22 23\n",
      " 24 25 26 27 28 29 30 31 32 33 34 35 36 37 38 39] TEST: [40 41 42 43 44 45 46 47 48 49]\n"
     ]
    }
   ],
   "source": [
    "y_sample = np.array(LIFE_EXPECT)\n",
    "x_sample = np.concatenate((np.vstack(MURDER), np.vstack(HSGRAD), np.vstack(INCOME), np.vstack(ILLITERACY)), axis=1)\n",
    "#print(x_sample)\n",
    "\n",
    "n_splits=5\n",
    "\n",
    "kf = KFold(n_splits,shuffle=False)\n",
    "\n",
    "kf.get_n_splits(x_sample,y_sample)\n",
    "\n",
    "mse = np.zeros(n_splits)\n",
    "\n",
    "counter = 0\n",
    "\n",
    "result = []\n",
    "\n",
    "headers = [\"name\",\"MSE\"]  \n",
    "\n",
    "for train_index, test_index in kf.split(x_sample):\n",
    "    print(\"TRAIN:\", train_index, \"TEST:\", test_index)\n",
    "    X_train, X_test = x_sample[train_index], x_sample[test_index]\n",
    "    y_train, y_test = y_sample[train_index], y_sample[test_index]\n",
    "    lin_model = LinearRegression()\n",
    "    lin_model.fit(X_train, y_train)\n",
    "    \n",
    "    # model evaluation for testing set\n",
    "    y_test_predict = lin_model.predict(X_test)\n",
    "    \n",
    "    mse[counter] = (mean_squared_error(y_test, y_test_predict))\n",
    "    \n",
    "    temp = \"%d in %d fold Cross-Validation MSE\"%(counter+1,5)\n",
    "    \n",
    "    result = result  +[[temp] + [mse[counter]]]\n",
    "    \n",
    "    counter = counter + 1\n",
    "\n",
    "result = result  +[[\"Average_R_remp\"] + [np.mean(mse,axis=0)]]"
   ]
  },
  {
   "cell_type": "code",
   "execution_count": 6,
   "metadata": {},
   "outputs": [
    {
     "name": "stdout",
     "output_type": "stream",
     "text": [
      "| name                             |      MSE |\n",
      "|----------------------------------|----------|\n",
      "| 1 in 5 fold Cross-Validation MSE | 1.18086  |\n",
      "| 2 in 5 fold Cross-Validation MSE | 0.894694 |\n",
      "| 3 in 5 fold Cross-Validation MSE | 0.758704 |\n",
      "| 4 in 5 fold Cross-Validation MSE | 0.373007 |\n",
      "| 5 in 5 fold Cross-Validation MSE | 0.565788 |\n",
      "| Average_R_remp                   | 0.754611 |\n"
     ]
    }
   ],
   "source": [
    "print(tabulate(result, headers,tablefmt=\"github\"))"
   ]
  },
  {
   "cell_type": "code",
   "execution_count": 7,
   "metadata": {},
   "outputs": [],
   "source": [
    "def life_dep(dfs):\n",
    "    for  name in dfs.columns:\n",
    "        locals()[name] =  dfs[name]\n",
    "    \n",
    "    \n",
    "    \n",
    "    y_sample = np.array(LIFE_EXPECT)\n",
    "    x_sample = np.concatenate((np.vstack(MURDER), np.vstack(HSGRAD), np.vstack(INCOME), np.vstack(ILLITERACY)), axis=1)\n",
    "    #print(x_sample)\n",
    "    \n",
    "    data = np.concatenate((x_sample, np.vstack(y_sample)),axis=1)\n",
    "    \n",
    "    np.random.shuffle(data)\n",
    "    \n",
    "    y_sample = data[:,-1]\n",
    "    \n",
    "    x_sample = data[:,:-1]\n",
    "\n",
    "    n_splits=5\n",
    "\n",
    "    kf = KFold(n_splits,shuffle=False)\n",
    "\n",
    "    kf.get_n_splits(x_sample,y_sample)\n",
    "\n",
    "    mse = np.zeros(n_splits)\n",
    "\n",
    "    counter = 0\n",
    "    \n",
    "\n",
    "    for train_index, test_index in kf.split(x_sample):\n",
    "        X_train, X_test = x_sample[train_index], x_sample[test_index]\n",
    "        y_train, y_test = y_sample[train_index], y_sample[test_index]\n",
    "        lin_model = LinearRegression()\n",
    "        lin_model.fit(X_train, y_train)\n",
    "    \n",
    "        # model evaluation for testing set\n",
    "        y_test_predict = lin_model.predict(X_test)\n",
    "    \n",
    "        mse[counter] = (mean_squared_error(y_test, y_test_predict))\n",
    "        \n",
    "        counter = counter + 1\n",
    "\n",
    "    return np.mean(mse)"
   ]
  },
  {
   "cell_type": "code",
   "execution_count": 8,
   "metadata": {},
   "outputs": [],
   "source": [
    "num_test = 600\n",
    "\n",
    "result = np.zeros(num_test)\n",
    "\n",
    "for i in range(num_test):\n",
    "    result[i] = life_dep(dfs)"
   ]
  },
  {
   "cell_type": "code",
   "execution_count": 9,
   "metadata": {},
   "outputs": [
    {
     "data": {
      "text/plain": [
       "([<matplotlib.axis.XTick at 0x1d6440e43c8>],\n",
       " <a list of 1 Text xticklabel objects>)"
      ]
     },
     "execution_count": 9,
     "metadata": {},
     "output_type": "execute_result"
    },
    {
     "data": {
      "image/png": "[encoded data removed]",
      "text/plain": [
       "<Figure size 432x288 with 1 Axes>"
      ]
     },
     "metadata": {
      "needs_background": "light"
     },
     "output_type": "display_data"
    }
   ],
   "source": [
    "plt.title(\"MSE of 5 folds in %d trails\"% num_test)\n",
    "plt.ylabel(\"Error rate\")\n",
    "plt.boxplot(result,showfliers=False)\n",
    "plt.xticks([1], ['5 fold'])"
   ]
  },
  {
   "cell_type": "code",
   "execution_count": 10,
   "metadata": {},
   "outputs": [],
   "source": [
    "##(3)\n",
    "\n",
    "X_sample = np.array(MURDER)\n",
    "Y_sample = y_sample \n",
    "degree = 1\n",
    "\n",
    "z = np.polyfit(X_sample,Y_sample, degree)\n",
    "func = np.poly1d(z)\n",
    "##validation set\n",
    "score = np.mean(np.sqrt(np.sum((func(X_sample)-Y_sample)**2) ))\n",
    "\n",
    "x = np.arange(np.min(X_sample)-1,np.max(X_sample)+1 ,1/10**4)\n",
    "\n"
   ]
  },
  {
   "cell_type": "code",
   "execution_count": 11,
   "metadata": {},
   "outputs": [
    {
     "data": {
      "text/plain": [
       "Text(0, 0.5, 'Life expextancy')"
      ]
     },
     "execution_count": 11,
     "metadata": {},
     "output_type": "execute_result"
    },
    {
     "data": {
      "image/png": "[encoded data removed]",
      "text/plain": [
       "<Figure size 432x288 with 1 Axes>"
      ]
     },
     "metadata": {
      "needs_background": "light"
     },
     "output_type": "display_data"
    }
   ],
   "source": [
    "plt.plot(X_sample,Y_sample, 'rx',label=\"data\")\n",
    "plt.plot(x,func(x),'k:',label=\"fit\")\n",
    "plt.gca().set_title('murder_rate vs life expectancy linear regression')\n",
    "plt.legend(loc='best')\n",
    "plt.xlabel(\"Crime Rate\")\n",
    "plt.ylabel(\"Life expextancy\")\n"
   ]
  },
  {
   "cell_type": "code",
   "execution_count": 19,
   "metadata": {},
   "outputs": [
    {
     "data": {
      "text/plain": [
       "<matplotlib.axes._subplots.AxesSubplot at 0x1d646f32b00>"
      ]
     },
     "execution_count": 19,
     "metadata": {},
     "output_type": "execute_result"
    },
    {
     "data": {
      "image/png": "[encoded data removed]",
      "text/plain": [
       "<Figure size 432x288 with 2 Axes>"
      ]
     },
     "metadata": {
      "needs_background": "light"
     },
     "output_type": "display_data"
    }
   ],
   "source": [
    "# yes it can improve\n",
    "correlation_matrix = dfs.corr().round(2)\n",
    "# annot = True to print the values inside the square\n",
    "sns.heatmap(data=correlation_matrix, annot=True)"
   ]
  },
  {
   "cell_type": "code",
   "execution_count": 13,
   "metadata": {},
   "outputs": [],
   "source": [
    "## we choose 2 or 3 features\n",
    "def life_feature(data):\n",
    "    \n",
    "    np.random.shuffle(data)\n",
    "    \n",
    "    y_sample = data[:,-1]\n",
    "    \n",
    "    x_sample = data[:,:-1]\n",
    "\n",
    "    n_splits=5\n",
    "\n",
    "    kf = KFold(n_splits,shuffle=False)\n",
    "\n",
    "    kf.get_n_splits(x_sample,y_sample)\n",
    "\n",
    "    mse = np.zeros(n_splits)\n",
    "\n",
    "    counter = 0\n",
    "    \n",
    "\n",
    "    for train_index, test_index in kf.split(x_sample):\n",
    "        #print(\"TRAIN:\", train_index, \"TEST:\", test_index)\n",
    "        X_train, X_test = x_sample[train_index], x_sample[test_index]\n",
    "        y_train, y_test = y_sample[train_index], y_sample[test_index]\n",
    "        lin_model = LinearRegression()\n",
    "        lin_model.fit(X_train, y_train)\n",
    "    \n",
    "        # model evaluation for testing set\n",
    "        y_test_predict = lin_model.predict(X_test)\n",
    "    \n",
    "        mse[counter] = (mean_squared_error(y_test, y_test_predict))\n",
    "        \n",
    "        counter = counter + 1\n",
    "\n",
    "    return np.mean(mse)\n"
   ]
  },
  {
   "cell_type": "code",
   "execution_count": 14,
   "metadata": {},
   "outputs": [
    {
     "name": "stdout",
     "output_type": "stream",
     "text": [
      "(50, 2)\n"
     ]
    },
    {
     "data": {
      "text/plain": [
       "([<matplotlib.axis.XTick at 0x1d646d17828>],\n",
       " <a list of 1 Text xticklabel objects>)"
      ]
     },
     "execution_count": 14,
     "metadata": {},
     "output_type": "execute_result"
    },
    {
     "data": {
      "image/png": "[encoded data removed]",
      "text/plain": [
       "<Figure size 432x288 with 1 Axes>"
      ]
     },
     "metadata": {
      "needs_background": "light"
     },
     "output_type": "display_data"
    }
   ],
   "source": [
    "#first try 1 related feature \n",
    "y_sample = np.array(LIFE_EXPECT)\n",
    "x_sample = np.vstack(MURDER)\n",
    "\n",
    "data_0 = np.concatenate((x_sample, np.vstack(y_sample)),axis=1)\n",
    "\n",
    "result = np.zeros(num_test)\n",
    "print(data_0.shape)\n",
    "\n",
    "for i in range(num_test):\n",
    "    result[i] = life_feature(data_0)\n",
    "        \n",
    "plt.title(\"1 features MSE of 5 folds in %d trails\"% num_test)\n",
    "plt.ylabel(\"Error rate\")\n",
    "plt.boxplot(result,showfliers=False)\n",
    "plt.xticks([1], ['5 fold'])\n"
   ]
  },
  {
   "cell_type": "code",
   "execution_count": 15,
   "metadata": {},
   "outputs": [
    {
     "name": "stdout",
     "output_type": "stream",
     "text": [
      "(50, 3)\n"
     ]
    },
    {
     "data": {
      "text/plain": [
       "([<matplotlib.axis.XTick at 0x1d646d7b048>],\n",
       " <a list of 1 Text xticklabel objects>)"
      ]
     },
     "execution_count": 15,
     "metadata": {},
     "output_type": "execute_result"
    },
    {
     "data": {
      "image/png": "[encoded data removed]",
      "text/plain": [
       "<Figure size 432x288 with 1 Axes>"
      ]
     },
     "metadata": {
      "needs_background": "light"
     },
     "output_type": "display_data"
    }
   ],
   "source": [
    "#first try 2 related feature \n",
    "y_sample = np.array(LIFE_EXPECT)\n",
    "x_sample = np.concatenate((np.vstack(MURDER), np.vstack(HSGRAD)), axis=1)\n",
    "\n",
    "data_2 = np.concatenate((x_sample, np.vstack(y_sample)),axis=1)\n",
    "\n",
    "result = np.zeros(num_test)\n",
    "print(data_2.shape)\n",
    "\n",
    "for i in range(num_test):\n",
    "    result[i] = life_feature(data_2)\n",
    "        \n",
    "plt.title(\"2 features MSE of 5 folds in %d trails\"% num_test)\n",
    "plt.ylabel(\"Error rate\")\n",
    "plt.boxplot(result,showfliers=False)\n",
    "plt.xticks([1], ['5 fold'])\n"
   ]
  },
  {
   "cell_type": "code",
   "execution_count": 16,
   "metadata": {},
   "outputs": [
    {
     "name": "stdout",
     "output_type": "stream",
     "text": [
      "(50, 3)\n"
     ]
    },
    {
     "data": {
      "text/plain": [
       "([<matplotlib.axis.XTick at 0x1d646dd0b70>],\n",
       " <a list of 1 Text xticklabel objects>)"
      ]
     },
     "execution_count": 16,
     "metadata": {},
     "output_type": "execute_result"
    },
    {
     "data": {
      "image/png": "[encoded data removed]",
      "text/plain": [
       "<Figure size 432x288 with 1 Axes>"
      ]
     },
     "metadata": {
      "needs_background": "light"
     },
     "output_type": "display_data"
    }
   ],
   "source": [
    "#first try 2 related feature \n",
    "y_sample = np.array(LIFE_EXPECT)\n",
    "x_sample = np.concatenate((np.vstack(MURDER), np.vstack(ILLITERACY)), axis=1)\n",
    "\n",
    "data_2a = np.concatenate((x_sample, np.vstack(y_sample)),axis=1)\n",
    "\n",
    "result = np.zeros(num_test)\n",
    "print(data_2a.shape)\n",
    "\n",
    "for i in range(num_test):\n",
    "    result[i] = life_feature(data_2a)\n",
    "        \n",
    "plt.title(\"2 features MSE of 5 folds in %d trails\"% num_test)\n",
    "plt.ylabel(\"Error rate\")\n",
    "plt.boxplot(result,showfliers=False)\n",
    "plt.xticks([1], ['5 fold'])"
   ]
  },
  {
   "cell_type": "code",
   "execution_count": 17,
   "metadata": {},
   "outputs": [
    {
     "name": "stdout",
     "output_type": "stream",
     "text": [
      "(50, 4)\n"
     ]
    },
    {
     "data": {
      "text/plain": [
       "([<matplotlib.axis.XTick at 0x1d646e30198>],\n",
       " <a list of 1 Text xticklabel objects>)"
      ]
     },
     "execution_count": 17,
     "metadata": {},
     "output_type": "execute_result"
    },
    {
     "data": {
      "image/png": "[encoded data removed]",
      "text/plain": [
       "<Figure size 432x288 with 1 Axes>"
      ]
     },
     "metadata": {
      "needs_background": "light"
     },
     "output_type": "display_data"
    }
   ],
   "source": [
    "#first try 3 related feature \n",
    "y_sample = np.array(LIFE_EXPECT)\n",
    "x_sample = np.concatenate((np.vstack(MURDER), np.vstack(INCOME) , np.vstack(ILLITERACY)), axis=1)\n",
    "\n",
    "data_3 = np.concatenate((x_sample, np.vstack(y_sample)),axis=1)\n",
    "\n",
    "print(data_3.shape)\n",
    "\n",
    "result = np.zeros(num_test)\n",
    "\n",
    "for i in range(num_test):\n",
    "    result[i] = life_feature(data_3)\n",
    "        \n",
    "plt.title(\"3 features MSE of 5 folds in %d trails\"% num_test)\n",
    "plt.ylabel(\"Error rate\")\n",
    "plt.boxplot(result,showfliers=False)\n",
    "plt.xticks([1], ['5 fold'])\n"
   ]
  },
  {
   "cell_type": "code",
   "execution_count": null,
   "metadata": {},
   "outputs": [],
   "source": []
  },
  {
   "cell_type": "code",
   "execution_count": null,
   "metadata": {},
   "outputs": [],
   "source": []
  },
  {
   "cell_type": "code",
   "execution_count": null,
   "metadata": {},
   "outputs": [],
   "source": []
  },
  {
   "cell_type": "code",
   "execution_count": null,
   "metadata": {},
   "outputs": [],
   "source": []
  },
  {
   "cell_type": "code",
   "execution_count": null,
   "metadata": {},
   "outputs": [],
   "source": []
  },
  {
   "cell_type": "code",
   "execution_count": null,
   "metadata": {},
   "outputs": [],
   "source": []
  },
  {
   "cell_type": "code",
   "execution_count": null,
   "metadata": {},
   "outputs": [],
   "source": []
  },
  {
   "cell_type": "code",
   "execution_count": null,
   "metadata": {},
   "outputs": [],
   "source": []
  },
  {
   "cell_type": "code",
   "execution_count": null,
   "metadata": {},
   "outputs": [],
   "source": []
  },
  {
   "cell_type": "code",
   "execution_count": null,
   "metadata": {},
   "outputs": [],
   "source": []
  },
  {
   "cell_type": "code",
   "execution_count": null,
   "metadata": {},
   "outputs": [],
   "source": []
  },
  {
   "cell_type": "code",
   "execution_count": null,
   "metadata": {},
   "outputs": [],
   "source": []
  },
  {
   "cell_type": "code",
   "execution_count": null,
   "metadata": {},
   "outputs": [],
   "source": []
  },
  {
   "cell_type": "code",
   "execution_count": null,
   "metadata": {},
   "outputs": [],
   "source": []
  },
  {
   "cell_type": "code",
   "execution_count": null,
   "metadata": {},
   "outputs": [],
   "source": []
  },
  {
   "cell_type": "code",
   "execution_count": null,
   "metadata": {},
   "outputs": [],
   "source": []
  },
  {
   "cell_type": "code",
   "execution_count": null,
   "metadata": {},
   "outputs": [],
   "source": []
  },
  {
   "cell_type": "code",
   "execution_count": null,
   "metadata": {},
   "outputs": [],
   "source": []
  },
  {
   "cell_type": "code",
   "execution_count": null,
   "metadata": {},
   "outputs": [],
   "source": []
  },
  {
   "cell_type": "code",
   "execution_count": null,
   "metadata": {},
   "outputs": [],
   "source": []
  },
  {
   "cell_type": "code",
   "execution_count": null,
   "metadata": {},
   "outputs": [],
   "source": []
  }
 ],
 "metadata": {
  "kernelspec": {
   "display_name": "Python 3",
   "language": "python",
   "name": "python3"
  },
  "language_info": {
   "codemirror_mode": {
    "name": "ipython",
    "version": 3
   },
   "file_extension": ".py",
   "mimetype": "text/x-python",
   "name": "python",
   "nbconvert_exporter": "python",
   "pygments_lexer": "ipython3",
   "version": "3.6.9"
  }
 },
 "nbformat": 4,
 "nbformat_minor": 2
}
