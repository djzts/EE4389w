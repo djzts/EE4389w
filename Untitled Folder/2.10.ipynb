{
 "cells": [
  {
   "cell_type": "code",
   "execution_count": 21,
   "metadata": {},
   "outputs": [],
   "source": [
    "import pandas as pd\n",
    "import numpy as np"
   ]
  },
  {
   "cell_type": "code",
   "execution_count": 27,
   "metadata": {},
   "outputs": [
    {
     "name": "stdout",
     "output_type": "stream",
     "text": [
      "Index(['STATE NAME', 'LIFE_EXPECT', 'MURDER', 'HSGRAD', 'INCOME',\n",
      "       'ILLITERACY'],\n",
      "      dtype='object')\n",
      "       STATE NAME  LIFE_EXPECT  MURDER  HSGRAD  INCOME  ILLITERACY\n",
      "0         Alabama         69.1    15.1    41.3    3624         2.1\n",
      "1          Alaska         69.3    11.3    66.7    6315         1.5\n",
      "2         Arizona         70.6     7.8    58.1    4530         1.8\n",
      "3        Arkansas         70.7    10.1    39.9    3378         1.9\n",
      "4      California         71.7    10.3    62.6    5114         1.1\n",
      "5        Colorado         72.1     6.8    63.9    4884         0.7\n",
      "6     Connecticut         72.5     3.1    56.0    5348         1.1\n",
      "7        Delaware         70.1     6.2    54.6    4809         0.9\n",
      "8         Florida         70.7    10.7    52.6    4815         1.3\n",
      "9         Georgia         68.5    13.9    40.6    4091         2.0\n",
      "10         Hawaii         73.6     6.2    61.9    4963         1.9\n",
      "11          Idaho         71.9     5.3    59.5    4119         0.6\n",
      "12       Illinois         70.1    10.3    52.6    5107         0.9\n",
      "13        Indiana         70.9     7.1    52.9    4458         0.7\n",
      "14           Iowa         72.6     2.3    59.0    4628         0.5\n",
      "15         Kansas         72.6     4.5    59.9    4669         0.6\n",
      "16       Kentucky         70.1    10.6    38.5    3712         1.6\n",
      "17      Louisiana         68.8    13.2    42.2    3545         2.8\n",
      "18          Maine         70.4     2.7    54.7    3694         0.7\n",
      "19       Maryland         70.2     8.5    52.3    5299         0.9\n",
      "20  Massachusetts         71.8     3.3    58.5    4755         1.1\n",
      "21       Michigan         70.6    11.1    52.8    4751         0.9\n",
      "22      Minnesota         73.0     2.3    57.6    4675         0.6\n",
      "23    Mississippi         68.1    12.5    41.0    3098         2.4\n",
      "24       Missouri         70.7     9.3    48.8    4254         0.8\n",
      "25        Montana         70.6     5.0    59.2    4347         0.6\n",
      "26       Nebraska         72.6     2.9    59.3    4508         0.6\n",
      "27         Nevada         69.0    11.5    65.2    5149         0.5\n",
      "28   NewHampshire         71.2     3.3    57.6    4281         0.7\n",
      "29      NewJersey         70.9     5.2    52.5    5237         1.1\n",
      "30      NewMexico         70.3     9.7    55.2    3601         2.2\n",
      "31        NewYork         70.6    10.9    52.7    4903         1.4\n",
      "32  NorthCarolina         69.2    11.1    38.5    3875         1.8\n",
      "33    NorthDakota         72.8     1.4    50.3    5087         0.8\n",
      "34           Ohio         70.8     7.4    53.2    4561         0.8\n",
      "35       Oklahoma         71.4     6.4    51.6    3983         1.1\n",
      "36         Oregon         72.1     4.2    60.0    4660         0.6\n",
      "37   Pennsylvania         70.4     6.1    50.2    4449         1.0\n",
      "38    RhodeIsland         71.9     2.4    46.4    4558         1.3\n",
      "39  SouthCarolina         68.0    11.6    37.8    3635         2.3\n",
      "40    SouthDakota         72.1     1.7    53.3    4167         0.5\n",
      "41      Tennessee         70.1    11.0    41.8    3821         1.7\n",
      "42          Texas         70.9    12.2    47.4    4188         2.2\n",
      "43           Utah         72.9     4.5    67.3    4022         0.6\n",
      "44        Vermont         71.6     5.5    57.1    3907         0.6\n",
      "45       Virginia         70.1     9.5    47.8    4701         1.4\n",
      "46     Washington         71.7     4.3    63.5    4864         0.6\n",
      "47   WestVirginia         69.5     6.7    41.6    3617         1.4\n",
      "48      Wisconsin         72.5     3.0    54.5    4468         0.7\n",
      "49        Wyoming         70.3     6.9    62.9    4566         0.6\n"
     ]
    }
   ],
   "source": [
    "dfs = pd.read_excel(\"lifeExpectancy.xlsx\", sheet_name='Sheet1')\n",
    "print(dfs.columns)\n",
    "print(dfs)"
   ]
  },
  {
   "cell_type": "code",
   "execution_count": 28,
   "metadata": {},
   "outputs": [],
   "source": [
    "for  name in dfs.columns:\n",
    "    locals()[name] =  dfs[name]"
   ]
  },
  {
   "cell_type": "code",
   "execution_count": 30,
   "metadata": {},
   "outputs": [
    {
     "name": "stdout",
     "output_type": "stream",
     "text": [
      "69.1\n"
     ]
    }
   ],
   "source": [
    "print(LIFE_EXPECT[0])"
   ]
  },
  {
   "cell_type": "code",
   "execution_count": null,
   "metadata": {},
   "outputs": [],
   "source": []
  }
 ],
 "metadata": {
  "kernelspec": {
   "display_name": "Python 3",
   "language": "python",
   "name": "python3"
  },
  "language_info": {
   "codemirror_mode": {
    "name": "ipython",
    "version": 3
   },
   "file_extension": ".py",
   "mimetype": "text/x-python",
   "name": "python",
   "nbconvert_exporter": "python",
   "pygments_lexer": "ipython3",
   "version": "3.6.9"
  }
 },
 "nbformat": 4,
 "nbformat_minor": 2
}
