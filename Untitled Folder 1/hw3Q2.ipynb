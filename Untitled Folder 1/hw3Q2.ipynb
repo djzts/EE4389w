{
 "cells": [
  {
   "cell_type": "code",
   "execution_count": 4,
   "metadata": {},
   "outputs": [],
   "source": [
    "import numpy as np\n",
    "import matplotlib.pyplot as plt\n",
    "from tabulate import tabulate\n",
    "from sklearn.neural_network import MLPRegressor\n",
    "from sklearn.model_selection import KFold                    "
   ]
  },
  {
   "cell_type": "code",
   "execution_count": 5,
   "metadata": {},
   "outputs": [],
   "source": [
    "x = np.arange(0,1,1/10**4)\n",
    "obj_func = x**2 +0.1*x\n",
    "mu , sigma= 0 , 0.5\n",
    "real_func = obj_func + np.random.normal(mu, sigma, len(obj_func))\n",
    "\n",
    "num_training_sample = 25\n",
    "\n",
    "samples_index = np.random.choice(len(x), num_training_sample, replace=False)\n",
    "\n",
    "x_sample = x[samples_index]\n",
    "\n",
    "y_sample = real_func[samples_index]\n"
   ]
  },
  {
   "cell_type": "code",
   "execution_count": 20,
   "metadata": {},
   "outputs": [
    {
     "name": "stdout",
     "output_type": "stream",
     "text": [
      "TRAIN: [ 5  6  7  8  9 10 11 12 13 14 15 16 17 18 19 20 21 22 23 24] TEST: [0 1 2 3 4]\n",
      "TRAIN: [ 0  1  2  3  4 10 11 12 13 14 15 16 17 18 19 20 21 22 23 24] TEST: [5 6 7 8 9]\n",
      "TRAIN: [ 0  1  2  3  4  5  6  7  8  9 15 16 17 18 19 20 21 22 23 24] TEST: [10 11 12 13 14]\n",
      "TRAIN: [ 0  1  2  3  4  5  6  7  8  9 10 11 12 13 14 20 21 22 23 24] TEST: [15 16 17 18 19]\n",
      "TRAIN: [ 0  1  2  3  4  5  6  7  8  9 10 11 12 13 14 15 16 17 18 19] TEST: [20 21 22 23 24]\n"
     ]
    }
   ],
   "source": [
    "kf = KFold(n_splits=5,shuffle=False)\n",
    "\n",
    "kf.get_n_splits(x_sample,y_sample)\n",
    "\n",
    "\n",
    "\n",
    "highest_degree = 5\n",
    "R_emp= np.zeros((5,highest_degree+1))\n",
    "counter = 0\n",
    "result = []\n",
    "for train_index, test_index in kf.split(x_sample):\n",
    "    print(\"TRAIN:\", train_index, \"TEST:\", test_index)\n",
    "    X_train, X_test = x_sample[train_index], x_sample[test_index]\n",
    "    y_train, y_test = y_sample[train_index], y_sample[test_index]\n",
    "    \n",
    "    est = MLPRegressor(activation='logistic')\n",
    "    est.fit(X_train.reshape(-1, 1), y_train)\n",
    "    y_pred = est.predict(X_test.reshape(-1, 1))"
   ]
  },
  {
   "cell_type": "code",
   "execution_count": 21,
   "metadata": {},
   "outputs": [
    {
     "data": {
      "text/plain": [
       "array([-0.02811026, -0.01144122, -0.00394294, -0.00762155,  0.01274695])"
      ]
     },
     "execution_count": 21,
     "metadata": {},
     "output_type": "execute_result"
    }
   ],
   "source": [
    "y_pred"
   ]
  },
  {
   "cell_type": "code",
   "execution_count": 10,
   "metadata": {},
   "outputs": [
    {
     "data": {
      "text/plain": [
       "MLPRegressor(activation='logistic', alpha=0.0001, batch_size='auto', beta_1=0.9,\n",
       "             beta_2=0.999, early_stopping=False, epsilon=1e-08,\n",
       "             hidden_layer_sizes=(100,), learning_rate='constant',\n",
       "             learning_rate_init=0.001, max_iter=200, momentum=0.9,\n",
       "             n_iter_no_change=10, nesterovs_momentum=True, power_t=0.5,\n",
       "             random_state=None, shuffle=True, solver='adam', tol=0.0001,\n",
       "             validation_fraction=0.1, verbose=False, warm_start=False)"
      ]
     },
     "execution_count": 10,
     "metadata": {},
     "output_type": "execute_result"
    }
   ],
   "source": [
    "est = MLPRegressor(activation='logistic')\n",
    "est.fit(x_sample.reshape(-1, 1), y_sample)"
   ]
  },
  {
   "cell_type": "code",
   "execution_count": null,
   "metadata": {},
   "outputs": [],
   "source": []
  }
 ],
 "metadata": {
  "kernelspec": {
   "display_name": "Python 3",
   "language": "python",
   "name": "python3"
  },
  "language_info": {
   "codemirror_mode": {
    "name": "ipython",
    "version": 3
   },
   "file_extension": ".py",
   "mimetype": "text/x-python",
   "name": "python",
   "nbconvert_exporter": "python",
   "pygments_lexer": "ipython3",
   "version": "3.6.9"
  }
 },
 "nbformat": 4,
 "nbformat_minor": 2
}
